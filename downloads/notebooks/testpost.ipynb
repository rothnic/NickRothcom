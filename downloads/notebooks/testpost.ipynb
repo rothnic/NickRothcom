{
 "metadata": {
  "name": "",
  "signature": "sha256:b4cbbf5dc15dae42e088a94677aa43ce891a8d4b34be77925e853449ce3a759a"
 },
 "nbformat": 3,
 "nbformat_minor": 0,
 "worksheets": [
  {
   "cells": [
    {
     "cell_type": "markdown",
     "metadata": {},
     "source": [
      "# Test post, please ignore"
     ]
    },
    {
     "cell_type": "code",
     "collapsed": false,
     "input": [],
     "language": "python",
     "metadata": {},
     "outputs": []
    }
   ],
   "metadata": {}
  }
 ]
}