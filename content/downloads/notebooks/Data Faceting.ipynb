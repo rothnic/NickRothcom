{
 "metadata": {
  "name": "",
  "signature": "sha256:a0929802b3a47751a4094f9c47dea778ca11e112a509781b67a238f7f02a0883"
 },
 "nbformat": 3,
 "nbformat_minor": 0,
 "worksheets": [
  {
   "cells": [
    {
     "cell_type": "code",
     "collapsed": false,
     "input": [
      "import pandas as pd\n",
      "from bokeh.sampledata.autompg import autompg as df"
     ],
     "language": "python",
     "metadata": {},
     "outputs": [],
     "prompt_number": 1
    },
    {
     "cell_type": "markdown",
     "metadata": {},
     "source": [
      "## Sample Dataset in Pandas Dataframe"
     ]
    },
    {
     "cell_type": "code",
     "collapsed": false,
     "input": [
      "df.head()"
     ],
     "language": "python",
     "metadata": {},
     "outputs": [
      {
       "html": [
        "<div style=\"max-height:1000px;max-width:1500px;overflow:auto;\">\n",
        "<table border=\"1\" class=\"dataframe\">\n",
        "  <thead>\n",
        "    <tr style=\"text-align: right;\">\n",
        "      <th></th>\n",
        "      <th>mpg</th>\n",
        "      <th>cyl</th>\n",
        "      <th>displ</th>\n",
        "      <th>hp</th>\n",
        "      <th>weight</th>\n",
        "      <th>accel</th>\n",
        "      <th>yr</th>\n",
        "      <th>origin</th>\n",
        "      <th>name</th>\n",
        "    </tr>\n",
        "  </thead>\n",
        "  <tbody>\n",
        "    <tr>\n",
        "      <th>0</th>\n",
        "      <td> 18</td>\n",
        "      <td> 8</td>\n",
        "      <td> 307</td>\n",
        "      <td> 130</td>\n",
        "      <td> 3504</td>\n",
        "      <td> 12.0</td>\n",
        "      <td> 70</td>\n",
        "      <td> 1</td>\n",
        "      <td> chevrolet chevelle malibu</td>\n",
        "    </tr>\n",
        "    <tr>\n",
        "      <th>1</th>\n",
        "      <td> 15</td>\n",
        "      <td> 8</td>\n",
        "      <td> 350</td>\n",
        "      <td> 165</td>\n",
        "      <td> 3693</td>\n",
        "      <td> 11.5</td>\n",
        "      <td> 70</td>\n",
        "      <td> 1</td>\n",
        "      <td>         buick skylark 320</td>\n",
        "    </tr>\n",
        "    <tr>\n",
        "      <th>2</th>\n",
        "      <td> 18</td>\n",
        "      <td> 8</td>\n",
        "      <td> 318</td>\n",
        "      <td> 150</td>\n",
        "      <td> 3436</td>\n",
        "      <td> 11.0</td>\n",
        "      <td> 70</td>\n",
        "      <td> 1</td>\n",
        "      <td>        plymouth satellite</td>\n",
        "    </tr>\n",
        "    <tr>\n",
        "      <th>3</th>\n",
        "      <td> 16</td>\n",
        "      <td> 8</td>\n",
        "      <td> 304</td>\n",
        "      <td> 150</td>\n",
        "      <td> 3433</td>\n",
        "      <td> 12.0</td>\n",
        "      <td> 70</td>\n",
        "      <td> 1</td>\n",
        "      <td>             amc rebel sst</td>\n",
        "    </tr>\n",
        "    <tr>\n",
        "      <th>4</th>\n",
        "      <td> 17</td>\n",
        "      <td> 8</td>\n",
        "      <td> 302</td>\n",
        "      <td> 140</td>\n",
        "      <td> 3449</td>\n",
        "      <td> 10.5</td>\n",
        "      <td> 70</td>\n",
        "      <td> 1</td>\n",
        "      <td>               ford torino</td>\n",
        "    </tr>\n",
        "  </tbody>\n",
        "</table>\n",
        "</div>"
       ],
       "metadata": {},
       "output_type": "pyout",
       "prompt_number": 2,
       "text": [
        "   mpg  cyl  displ   hp  weight  accel  yr  origin                       name\n",
        "0   18    8    307  130    3504   12.0  70       1  chevrolet chevelle malibu\n",
        "1   15    8    350  165    3693   11.5  70       1          buick skylark 320\n",
        "2   18    8    318  150    3436   11.0  70       1         plymouth satellite\n",
        "3   16    8    304  150    3433   12.0  70       1              amc rebel sst\n",
        "4   17    8    302  140    3449   10.5  70       1                ford torino"
       ]
      }
     ],
     "prompt_number": 2
    },
    {
     "cell_type": "markdown",
     "metadata": {},
     "source": [
      "## Define the Facet Class"
     ]
    },
    {
     "cell_type": "code",
     "collapsed": false,
     "input": [
      "from itertools import product\n",
      "\n",
      "class Facet(object):\n",
      "    def __init__(self, data, x=None, y=None):\n",
      "        self.data = data\n",
      "        \n",
      "        if x:\n",
      "            self.x_facets = self.unique(data[x])\n",
      "            \n",
      "        if y:\n",
      "            self.y_facets = self.unique(data[y])\n",
      "\n",
      "    @staticmethod\n",
      "    def unique(col):\n",
      "        return sorted(set(col))"
     ],
     "language": "python",
     "metadata": {},
     "outputs": [],
     "prompt_number": 3
    },
    {
     "cell_type": "code",
     "collapsed": false,
     "input": [
      "x = Facet(df, x='cyl')"
     ],
     "language": "python",
     "metadata": {},
     "outputs": [],
     "prompt_number": 4
    },
    {
     "cell_type": "code",
     "collapsed": false,
     "input": [
      "x.x_facets"
     ],
     "language": "python",
     "metadata": {},
     "outputs": [
      {
       "metadata": {},
       "output_type": "pyout",
       "prompt_number": 5,
       "text": [
        "[3, 4, 5, 6, 8]"
       ]
      }
     ],
     "prompt_number": 5
    },
    {
     "cell_type": "markdown",
     "metadata": {},
     "source": [
      "## How Does this Handle Pandas Categorical Data\n",
      "Need to consider that we could have filtered out the data for a valid category, so a simple unique doesn't tell us about the missing categories."
     ]
    },
    {
     "cell_type": "code",
     "collapsed": false,
     "input": [
      "df_cat = df.copy()\n",
      "df_cat['cat_cyl'] = df_cat.cyl.astype('category')"
     ],
     "language": "python",
     "metadata": {},
     "outputs": [],
     "prompt_number": 6
    },
    {
     "cell_type": "code",
     "collapsed": false,
     "input": [
      "df_cat.cat_cyl.cat.categories"
     ],
     "language": "python",
     "metadata": {},
     "outputs": [
      {
       "metadata": {},
       "output_type": "pyout",
       "prompt_number": 7,
       "text": [
        "Int64Index([3, 4, 5, 6, 8], dtype='int64')"
       ]
      }
     ],
     "prompt_number": 7
    },
    {
     "cell_type": "code",
     "collapsed": false,
     "input": [
      "df_filt = df_cat[df_cat.cyl == 4]\n",
      "f = Facet(df_filt, x='cat_cyl')"
     ],
     "language": "python",
     "metadata": {},
     "outputs": [],
     "prompt_number": 8
    },
    {
     "cell_type": "markdown",
     "metadata": {},
     "source": [
      "#### Need to be clear if we want distinct values or categories. Categories should be resilient to filtering, while distinct isn't."
     ]
    },
    {
     "cell_type": "code",
     "collapsed": false,
     "input": [
      "f.x_facets"
     ],
     "language": "python",
     "metadata": {},
     "outputs": [
      {
       "metadata": {},
       "output_type": "pyout",
       "prompt_number": 9,
       "text": [
        "[4]"
       ]
      }
     ],
     "prompt_number": 9
    },
    {
     "cell_type": "markdown",
     "metadata": {},
     "source": [
      "## Handle Unique Values with Blaze"
     ]
    },
    {
     "cell_type": "code",
     "collapsed": false,
     "input": [
      "from blaze import *"
     ],
     "language": "python",
     "metadata": {},
     "outputs": [],
     "prompt_number": 10
    },
    {
     "cell_type": "code",
     "collapsed": false,
     "input": [
      "bz_df = Data(df)"
     ],
     "language": "python",
     "metadata": {},
     "outputs": [],
     "prompt_number": 11
    },
    {
     "cell_type": "markdown",
     "metadata": {},
     "source": [
      "#### below are the distinct cylinders"
     ]
    },
    {
     "cell_type": "code",
     "collapsed": false,
     "input": [
      "sorted(distinct(bz_df.cyl))"
     ],
     "language": "python",
     "metadata": {},
     "outputs": [
      {
       "metadata": {},
       "output_type": "pyout",
       "prompt_number": 22,
       "text": [
        "[3L, 4L, 5L, 6L, 8L]"
       ]
      }
     ],
     "prompt_number": 22
    },
    {
     "cell_type": "markdown",
     "metadata": {},
     "source": [
      "#### Create a filtered copy of a data source for only one cylinder"
     ]
    },
    {
     "cell_type": "code",
     "collapsed": false,
     "input": [
      "bz_df2 = bz_df[bz_df.cyl == 4]"
     ],
     "language": "python",
     "metadata": {},
     "outputs": [],
     "prompt_number": 23
    },
    {
     "cell_type": "markdown",
     "metadata": {},
     "source": [
      "#### Only has where cyl equal to 4"
     ]
    },
    {
     "cell_type": "code",
     "collapsed": false,
     "input": [
      "bz_df2"
     ],
     "language": "python",
     "metadata": {},
     "outputs": [
      {
       "html": [
        "<table border=\"1\" class=\"dataframe\">\n",
        "  <thead>\n",
        "    <tr style=\"text-align: right;\">\n",
        "      <th></th>\n",
        "      <th>mpg</th>\n",
        "      <th>cyl</th>\n",
        "      <th>displ</th>\n",
        "      <th>hp</th>\n",
        "      <th>weight</th>\n",
        "      <th>accel</th>\n",
        "      <th>yr</th>\n",
        "      <th>origin</th>\n",
        "      <th>name</th>\n",
        "    </tr>\n",
        "  </thead>\n",
        "  <tbody>\n",
        "    <tr>\n",
        "      <th>14</th>\n",
        "      <td> 24</td>\n",
        "      <td> 4</td>\n",
        "      <td> 113</td>\n",
        "      <td>  95</td>\n",
        "      <td> 2372</td>\n",
        "      <td> 15.0</td>\n",
        "      <td> 70</td>\n",
        "      <td> 3</td>\n",
        "      <td>        toyota corona mark ii</td>\n",
        "    </tr>\n",
        "    <tr>\n",
        "      <th>18</th>\n",
        "      <td> 27</td>\n",
        "      <td> 4</td>\n",
        "      <td>  97</td>\n",
        "      <td>  88</td>\n",
        "      <td> 2130</td>\n",
        "      <td> 14.5</td>\n",
        "      <td> 70</td>\n",
        "      <td> 3</td>\n",
        "      <td>                 datsun pl510</td>\n",
        "    </tr>\n",
        "    <tr>\n",
        "      <th>19</th>\n",
        "      <td> 26</td>\n",
        "      <td> 4</td>\n",
        "      <td>  97</td>\n",
        "      <td>  46</td>\n",
        "      <td> 1835</td>\n",
        "      <td> 20.5</td>\n",
        "      <td> 70</td>\n",
        "      <td> 2</td>\n",
        "      <td> volkswagen 1131 deluxe sedan</td>\n",
        "    </tr>\n",
        "    <tr>\n",
        "      <th>20</th>\n",
        "      <td> 25</td>\n",
        "      <td> 4</td>\n",
        "      <td> 110</td>\n",
        "      <td>  87</td>\n",
        "      <td> 2672</td>\n",
        "      <td> 17.5</td>\n",
        "      <td> 70</td>\n",
        "      <td> 2</td>\n",
        "      <td>                  peugeot 504</td>\n",
        "    </tr>\n",
        "    <tr>\n",
        "      <th>21</th>\n",
        "      <td> 24</td>\n",
        "      <td> 4</td>\n",
        "      <td> 107</td>\n",
        "      <td>  90</td>\n",
        "      <td> 2430</td>\n",
        "      <td> 14.5</td>\n",
        "      <td> 70</td>\n",
        "      <td> 2</td>\n",
        "      <td>                  audi 100 ls</td>\n",
        "    </tr>\n",
        "    <tr>\n",
        "      <th>22</th>\n",
        "      <td> 25</td>\n",
        "      <td> 4</td>\n",
        "      <td> 104</td>\n",
        "      <td>  95</td>\n",
        "      <td> 2375</td>\n",
        "      <td> 17.5</td>\n",
        "      <td> 70</td>\n",
        "      <td> 2</td>\n",
        "      <td>                     saab 99e</td>\n",
        "    </tr>\n",
        "    <tr>\n",
        "      <th>23</th>\n",
        "      <td> 26</td>\n",
        "      <td> 4</td>\n",
        "      <td> 121</td>\n",
        "      <td> 113</td>\n",
        "      <td> 2234</td>\n",
        "      <td> 12.5</td>\n",
        "      <td> 70</td>\n",
        "      <td> 2</td>\n",
        "      <td>                     bmw 2002</td>\n",
        "    </tr>\n",
        "    <tr>\n",
        "      <th>29</th>\n",
        "      <td> 27</td>\n",
        "      <td> 4</td>\n",
        "      <td>  97</td>\n",
        "      <td>  88</td>\n",
        "      <td> 2130</td>\n",
        "      <td> 14.5</td>\n",
        "      <td> 71</td>\n",
        "      <td> 3</td>\n",
        "      <td>                 datsun pl510</td>\n",
        "    </tr>\n",
        "    <tr>\n",
        "      <th>30</th>\n",
        "      <td> 28</td>\n",
        "      <td> 4</td>\n",
        "      <td> 140</td>\n",
        "      <td>  90</td>\n",
        "      <td> 2264</td>\n",
        "      <td> 15.5</td>\n",
        "      <td> 71</td>\n",
        "      <td> 1</td>\n",
        "      <td>          chevrolet vega 2300</td>\n",
        "    </tr>\n",
        "    <tr>\n",
        "      <th>31</th>\n",
        "      <td> 25</td>\n",
        "      <td> 4</td>\n",
        "      <td> 113</td>\n",
        "      <td>  95</td>\n",
        "      <td> 2228</td>\n",
        "      <td> 14.0</td>\n",
        "      <td> 71</td>\n",
        "      <td> 3</td>\n",
        "      <td>                toyota corona</td>\n",
        "    </tr>\n",
        "    <tr>\n",
        "      <th>45</th>\n",
        "      <td> 22</td>\n",
        "      <td> 4</td>\n",
        "      <td> 140</td>\n",
        "      <td>  72</td>\n",
        "      <td> 2408</td>\n",
        "      <td> 19.0</td>\n",
        "      <td> 71</td>\n",
        "      <td> 1</td>\n",
        "      <td>          chevrolet vega (sw)</td>\n",
        "    </tr>\n",
        "  </tbody>\n",
        "</table>"
       ],
       "metadata": {},
       "output_type": "pyout",
       "prompt_number": 24,
       "text": [
        "    mpg  cyl  displ   hp  weight  accel  yr  origin  \\\n",
        "14   24    4    113   95    2372   15.0  70       3   \n",
        "18   27    4     97   88    2130   14.5  70       3   \n",
        "19   26    4     97   46    1835   20.5  70       2   \n",
        "20   25    4    110   87    2672   17.5  70       2   \n",
        "21   24    4    107   90    2430   14.5  70       2   \n",
        "22   25    4    104   95    2375   17.5  70       2   \n",
        "23   26    4    121  113    2234   12.5  70       2   \n",
        "29   27    4     97   88    2130   14.5  71       3   \n",
        "30   28    4    140   90    2264   15.5  71       1   \n",
        "31   25    4    113   95    2228   14.0  71       3   \n",
        "45   22    4    140   72    2408   19.0  71       1   \n",
        "\n",
        "                            name  \n",
        "14         toyota corona mark ii  \n",
        "18                  datsun pl510  \n",
        "19  volkswagen 1131 deluxe sedan  \n",
        "20                   peugeot 504  \n",
        "21                   audi 100 ls  \n",
        "22                      saab 99e  \n",
        "23                      bmw 2002  \n",
        "29                  datsun pl510  \n",
        "30           chevrolet vega 2300  \n",
        "31                 toyota corona  \n",
        "..."
       ]
      }
     ],
     "prompt_number": 24
    },
    {
     "cell_type": "markdown",
     "metadata": {},
     "source": [
      "#### Still has everything"
     ]
    },
    {
     "cell_type": "code",
     "collapsed": false,
     "input": [
      "bz_df"
     ],
     "language": "python",
     "metadata": {},
     "outputs": [
      {
       "html": [
        "<table border=\"1\" class=\"dataframe\">\n",
        "  <thead>\n",
        "    <tr style=\"text-align: right;\">\n",
        "      <th></th>\n",
        "      <th>mpg</th>\n",
        "      <th>cyl</th>\n",
        "      <th>displ</th>\n",
        "      <th>hp</th>\n",
        "      <th>weight</th>\n",
        "      <th>accel</th>\n",
        "      <th>yr</th>\n",
        "      <th>origin</th>\n",
        "      <th>name</th>\n",
        "    </tr>\n",
        "  </thead>\n",
        "  <tbody>\n",
        "    <tr>\n",
        "      <th>0 </th>\n",
        "      <td> 18</td>\n",
        "      <td> 8</td>\n",
        "      <td> 307</td>\n",
        "      <td> 130</td>\n",
        "      <td> 3504</td>\n",
        "      <td> 12.0</td>\n",
        "      <td> 70</td>\n",
        "      <td> 1</td>\n",
        "      <td> chevrolet chevelle malibu</td>\n",
        "    </tr>\n",
        "    <tr>\n",
        "      <th>1 </th>\n",
        "      <td> 15</td>\n",
        "      <td> 8</td>\n",
        "      <td> 350</td>\n",
        "      <td> 165</td>\n",
        "      <td> 3693</td>\n",
        "      <td> 11.5</td>\n",
        "      <td> 70</td>\n",
        "      <td> 1</td>\n",
        "      <td>         buick skylark 320</td>\n",
        "    </tr>\n",
        "    <tr>\n",
        "      <th>2 </th>\n",
        "      <td> 18</td>\n",
        "      <td> 8</td>\n",
        "      <td> 318</td>\n",
        "      <td> 150</td>\n",
        "      <td> 3436</td>\n",
        "      <td> 11.0</td>\n",
        "      <td> 70</td>\n",
        "      <td> 1</td>\n",
        "      <td>        plymouth satellite</td>\n",
        "    </tr>\n",
        "    <tr>\n",
        "      <th>3 </th>\n",
        "      <td> 16</td>\n",
        "      <td> 8</td>\n",
        "      <td> 304</td>\n",
        "      <td> 150</td>\n",
        "      <td> 3433</td>\n",
        "      <td> 12.0</td>\n",
        "      <td> 70</td>\n",
        "      <td> 1</td>\n",
        "      <td>             amc rebel sst</td>\n",
        "    </tr>\n",
        "    <tr>\n",
        "      <th>4 </th>\n",
        "      <td> 17</td>\n",
        "      <td> 8</td>\n",
        "      <td> 302</td>\n",
        "      <td> 140</td>\n",
        "      <td> 3449</td>\n",
        "      <td> 10.5</td>\n",
        "      <td> 70</td>\n",
        "      <td> 1</td>\n",
        "      <td>               ford torino</td>\n",
        "    </tr>\n",
        "    <tr>\n",
        "      <th>5 </th>\n",
        "      <td> 15</td>\n",
        "      <td> 8</td>\n",
        "      <td> 429</td>\n",
        "      <td> 198</td>\n",
        "      <td> 4341</td>\n",
        "      <td> 10.0</td>\n",
        "      <td> 70</td>\n",
        "      <td> 1</td>\n",
        "      <td>          ford galaxie 500</td>\n",
        "    </tr>\n",
        "    <tr>\n",
        "      <th>6 </th>\n",
        "      <td> 14</td>\n",
        "      <td> 8</td>\n",
        "      <td> 454</td>\n",
        "      <td> 220</td>\n",
        "      <td> 4354</td>\n",
        "      <td>  9.0</td>\n",
        "      <td> 70</td>\n",
        "      <td> 1</td>\n",
        "      <td>          chevrolet impala</td>\n",
        "    </tr>\n",
        "    <tr>\n",
        "      <th>7 </th>\n",
        "      <td> 14</td>\n",
        "      <td> 8</td>\n",
        "      <td> 440</td>\n",
        "      <td> 215</td>\n",
        "      <td> 4312</td>\n",
        "      <td>  8.5</td>\n",
        "      <td> 70</td>\n",
        "      <td> 1</td>\n",
        "      <td>         plymouth fury iii</td>\n",
        "    </tr>\n",
        "    <tr>\n",
        "      <th>8 </th>\n",
        "      <td> 14</td>\n",
        "      <td> 8</td>\n",
        "      <td> 455</td>\n",
        "      <td> 225</td>\n",
        "      <td> 4425</td>\n",
        "      <td> 10.0</td>\n",
        "      <td> 70</td>\n",
        "      <td> 1</td>\n",
        "      <td>          pontiac catalina</td>\n",
        "    </tr>\n",
        "    <tr>\n",
        "      <th>9 </th>\n",
        "      <td> 15</td>\n",
        "      <td> 8</td>\n",
        "      <td> 390</td>\n",
        "      <td> 190</td>\n",
        "      <td> 3850</td>\n",
        "      <td>  8.5</td>\n",
        "      <td> 70</td>\n",
        "      <td> 1</td>\n",
        "      <td>        amc ambassador dpl</td>\n",
        "    </tr>\n",
        "    <tr>\n",
        "      <th>10</th>\n",
        "      <td> 15</td>\n",
        "      <td> 8</td>\n",
        "      <td> 383</td>\n",
        "      <td> 170</td>\n",
        "      <td> 3563</td>\n",
        "      <td> 10.0</td>\n",
        "      <td> 70</td>\n",
        "      <td> 1</td>\n",
        "      <td>       dodge challenger se</td>\n",
        "    </tr>\n",
        "  </tbody>\n",
        "</table>"
       ],
       "metadata": {},
       "output_type": "pyout",
       "prompt_number": 25,
       "text": [
        "    mpg  cyl  displ   hp  weight  accel  yr  origin                       name\n",
        "0    18    8    307  130    3504   12.0  70       1  chevrolet chevelle malibu\n",
        "1    15    8    350  165    3693   11.5  70       1          buick skylark 320\n",
        "2    18    8    318  150    3436   11.0  70       1         plymouth satellite\n",
        "3    16    8    304  150    3433   12.0  70       1              amc rebel sst\n",
        "4    17    8    302  140    3449   10.5  70       1                ford torino\n",
        "5    15    8    429  198    4341   10.0  70       1           ford galaxie 500\n",
        "6    14    8    454  220    4354    9.0  70       1           chevrolet impala\n",
        "7    14    8    440  215    4312    8.5  70       1          plymouth fury iii\n",
        "8    14    8    455  225    4425   10.0  70       1           pontiac catalina\n",
        "9    15    8    390  190    3850    8.5  70       1         amc ambassador dpl\n",
        "..."
       ]
      }
     ],
     "prompt_number": 25
    },
    {
     "cell_type": "markdown",
     "metadata": {},
     "source": [
      "#### Here Distinct works as it should, but the filtered data set would need a reference back to the original if you wanted to get the categories"
     ]
    },
    {
     "cell_type": "code",
     "collapsed": false,
     "input": [
      "distinct(bz_df2.cyl)\n",
      "# categories(bz_df2.cyl) == distinct(bz_df.cyl)"
     ],
     "language": "python",
     "metadata": {},
     "outputs": [
      {
       "html": [
        "<table border=\"1\" class=\"dataframe\">\n",
        "  <thead>\n",
        "    <tr style=\"text-align: right;\">\n",
        "      <th></th>\n",
        "      <th>cyl</th>\n",
        "    </tr>\n",
        "  </thead>\n",
        "  <tbody>\n",
        "    <tr>\n",
        "      <th>0</th>\n",
        "      <td> 4</td>\n",
        "    </tr>\n",
        "  </tbody>\n",
        "</table>"
       ],
       "metadata": {},
       "output_type": "pyout",
       "prompt_number": 28,
       "text": [
        "   cyl\n",
        "0    4"
       ]
      }
     ],
     "prompt_number": 28
    },
    {
     "cell_type": "code",
     "collapsed": false,
     "input": [
      "distinct(bz_df.cyl)"
     ],
     "language": "python",
     "metadata": {},
     "outputs": [
      {
       "html": [
        "<table border=\"1\" class=\"dataframe\">\n",
        "  <thead>\n",
        "    <tr style=\"text-align: right;\">\n",
        "      <th></th>\n",
        "      <th>cyl</th>\n",
        "    </tr>\n",
        "  </thead>\n",
        "  <tbody>\n",
        "    <tr>\n",
        "      <th>0</th>\n",
        "      <td> 8</td>\n",
        "    </tr>\n",
        "    <tr>\n",
        "      <th>1</th>\n",
        "      <td> 4</td>\n",
        "    </tr>\n",
        "    <tr>\n",
        "      <th>2</th>\n",
        "      <td> 6</td>\n",
        "    </tr>\n",
        "    <tr>\n",
        "      <th>3</th>\n",
        "      <td> 3</td>\n",
        "    </tr>\n",
        "    <tr>\n",
        "      <th>4</th>\n",
        "      <td> 5</td>\n",
        "    </tr>\n",
        "  </tbody>\n",
        "</table>"
       ],
       "metadata": {},
       "output_type": "pyout",
       "prompt_number": 29,
       "text": [
        "   cyl\n",
        "0    8\n",
        "1    4\n",
        "2    6\n",
        "3    3\n",
        "4    5"
       ]
      }
     ],
     "prompt_number": 29
    }
   ],
   "metadata": {}
  }
 ]
}